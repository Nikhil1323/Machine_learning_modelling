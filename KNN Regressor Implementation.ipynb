{
 "cells": [
  {
   "cell_type": "markdown",
   "id": "bdc09a24-910c-4af7-ad06-1be699a95c8b",
   "metadata": {},
   "source": [
    "## K Nearest Neighbour Regressor"
   ]
  },
  {
   "cell_type": "code",
   "execution_count": 1,
   "id": "f7f7b036-62f1-46ed-8fc6-bbe0e0b46323",
   "metadata": {},
   "outputs": [],
   "source": [
    "from sklearn.datasets import make_regression\n",
    "X,y=make_regression(n_samples=1000,n_features=2,noise=10,random_state=42)"
   ]
  },
  {
   "cell_type": "code",
   "execution_count": 2,
   "id": "0ba871d6-e695-426e-a4cc-9324a65b18fc",
   "metadata": {},
   "outputs": [],
   "source": [
    "from sklearn.model_selection import train_test_split\n",
    "X_train,X_test,y_train,y_test=train_test_split(X,y,test_size=0.33,random_state=42)"
   ]
  },
  {
   "cell_type": "code",
   "execution_count": 3,
   "id": "463b61ad-d407-4735-8505-224ae8e6cd82",
   "metadata": {},
   "outputs": [],
   "source": [
    "from sklearn.neighbors import KNeighborsRegressor"
   ]
  },
  {
   "cell_type": "code",
   "execution_count": 4,
   "id": "9046144c-f062-41c6-88ae-dae517f5ac44",
   "metadata": {},
   "outputs": [
    {
     "data": {
      "text/html": [
       "<style>#sk-container-id-1 {color: black;background-color: white;}#sk-container-id-1 pre{padding: 0;}#sk-container-id-1 div.sk-toggleable {background-color: white;}#sk-container-id-1 label.sk-toggleable__label {cursor: pointer;display: block;width: 100%;margin-bottom: 0;padding: 0.3em;box-sizing: border-box;text-align: center;}#sk-container-id-1 label.sk-toggleable__label-arrow:before {content: \"▸\";float: left;margin-right: 0.25em;color: #696969;}#sk-container-id-1 label.sk-toggleable__label-arrow:hover:before {color: black;}#sk-container-id-1 div.sk-estimator:hover label.sk-toggleable__label-arrow:before {color: black;}#sk-container-id-1 div.sk-toggleable__content {max-height: 0;max-width: 0;overflow: hidden;text-align: left;background-color: #f0f8ff;}#sk-container-id-1 div.sk-toggleable__content pre {margin: 0.2em;color: black;border-radius: 0.25em;background-color: #f0f8ff;}#sk-container-id-1 input.sk-toggleable__control:checked~div.sk-toggleable__content {max-height: 200px;max-width: 100%;overflow: auto;}#sk-container-id-1 input.sk-toggleable__control:checked~label.sk-toggleable__label-arrow:before {content: \"▾\";}#sk-container-id-1 div.sk-estimator input.sk-toggleable__control:checked~label.sk-toggleable__label {background-color: #d4ebff;}#sk-container-id-1 div.sk-label input.sk-toggleable__control:checked~label.sk-toggleable__label {background-color: #d4ebff;}#sk-container-id-1 input.sk-hidden--visually {border: 0;clip: rect(1px 1px 1px 1px);clip: rect(1px, 1px, 1px, 1px);height: 1px;margin: -1px;overflow: hidden;padding: 0;position: absolute;width: 1px;}#sk-container-id-1 div.sk-estimator {font-family: monospace;background-color: #f0f8ff;border: 1px dotted black;border-radius: 0.25em;box-sizing: border-box;margin-bottom: 0.5em;}#sk-container-id-1 div.sk-estimator:hover {background-color: #d4ebff;}#sk-container-id-1 div.sk-parallel-item::after {content: \"\";width: 100%;border-bottom: 1px solid gray;flex-grow: 1;}#sk-container-id-1 div.sk-label:hover label.sk-toggleable__label {background-color: #d4ebff;}#sk-container-id-1 div.sk-serial::before {content: \"\";position: absolute;border-left: 1px solid gray;box-sizing: border-box;top: 0;bottom: 0;left: 50%;z-index: 0;}#sk-container-id-1 div.sk-serial {display: flex;flex-direction: column;align-items: center;background-color: white;padding-right: 0.2em;padding-left: 0.2em;position: relative;}#sk-container-id-1 div.sk-item {position: relative;z-index: 1;}#sk-container-id-1 div.sk-parallel {display: flex;align-items: stretch;justify-content: center;background-color: white;position: relative;}#sk-container-id-1 div.sk-item::before, #sk-container-id-1 div.sk-parallel-item::before {content: \"\";position: absolute;border-left: 1px solid gray;box-sizing: border-box;top: 0;bottom: 0;left: 50%;z-index: -1;}#sk-container-id-1 div.sk-parallel-item {display: flex;flex-direction: column;z-index: 1;position: relative;background-color: white;}#sk-container-id-1 div.sk-parallel-item:first-child::after {align-self: flex-end;width: 50%;}#sk-container-id-1 div.sk-parallel-item:last-child::after {align-self: flex-start;width: 50%;}#sk-container-id-1 div.sk-parallel-item:only-child::after {width: 0;}#sk-container-id-1 div.sk-dashed-wrapped {border: 1px dashed gray;margin: 0 0.4em 0.5em 0.4em;box-sizing: border-box;padding-bottom: 0.4em;background-color: white;}#sk-container-id-1 div.sk-label label {font-family: monospace;font-weight: bold;display: inline-block;line-height: 1.2em;}#sk-container-id-1 div.sk-label-container {text-align: center;}#sk-container-id-1 div.sk-container {/* jupyter's `normalize.less` sets `[hidden] { display: none; }` but bootstrap.min.css set `[hidden] { display: none !important; }` so we also need the `!important` here to be able to override the default hidden behavior on the sphinx rendered scikit-learn.org. See: https://github.com/scikit-learn/scikit-learn/issues/21755 */display: inline-block !important;position: relative;}#sk-container-id-1 div.sk-text-repr-fallback {display: none;}</style><div id=\"sk-container-id-1\" class=\"sk-top-container\"><div class=\"sk-text-repr-fallback\"><pre>KNeighborsRegressor()</pre><b>In a Jupyter environment, please rerun this cell to show the HTML representation or trust the notebook. <br />On GitHub, the HTML representation is unable to render, please try loading this page with nbviewer.org.</b></div><div class=\"sk-container\" hidden><div class=\"sk-item\"><div class=\"sk-estimator sk-toggleable\"><input class=\"sk-toggleable__control sk-hidden--visually\" id=\"sk-estimator-id-1\" type=\"checkbox\" checked><label for=\"sk-estimator-id-1\" class=\"sk-toggleable__label sk-toggleable__label-arrow\">KNeighborsRegressor</label><div class=\"sk-toggleable__content\"><pre>KNeighborsRegressor()</pre></div></div></div></div></div>"
      ],
      "text/plain": [
       "KNeighborsRegressor()"
      ]
     },
     "execution_count": 4,
     "metadata": {},
     "output_type": "execute_result"
    }
   ],
   "source": [
    "regressor =KNeighborsRegressor(n_neighbors=5,algorithm='auto')\n",
    "regressor.fit(X_train,y_train)"
   ]
  },
  {
   "cell_type": "code",
   "execution_count": 5,
   "id": "074c62ac-ccef-410b-a028-33093cb6ffc6",
   "metadata": {},
   "outputs": [],
   "source": [
    "y_pred=regressor.predict(X_test)"
   ]
  },
  {
   "cell_type": "code",
   "execution_count": 6,
   "id": "0620f3d3-14d9-4f7e-a976-30cbcacdbb09",
   "metadata": {},
   "outputs": [
    {
     "data": {
      "text/plain": [
       "array([ 41.76673258,  -7.59437128, -16.65330434, -12.40227133,\n",
       "        36.50390441,  20.2429261 ,  61.33943992, -29.17202648,\n",
       "       -71.76709886, -11.9092177 ,  16.33441338,  -3.05077276,\n",
       "       -67.94559513,  59.90553659,  15.71045932,   0.1568295 ,\n",
       "       -60.10947793,  25.4844424 , -28.8095753 ,  27.02911181,\n",
       "        20.8555342 ,  15.65608547, -23.61510645, -41.03200396,\n",
       "       -43.92434524,  25.77610628, -58.95652775,  61.61204386,\n",
       "       -22.26969946,  73.57828341, -77.28105454,  33.68023612,\n",
       "       -59.88441434,  -7.59437128, -52.41802667,  -6.1272399 ,\n",
       "        20.57984555,  32.86381788,  14.41379048, -46.12209025,\n",
       "        84.06465502,  28.9556839 ,  40.33491469, -70.67778804,\n",
       "        21.6520122 ,  23.45246046, -30.06738109,  -7.56893351,\n",
       "        60.3765076 ,  66.69890142,  61.10758863,  77.06956965,\n",
       "       -57.91445319, -32.73737476, -46.12209025, -24.65667254,\n",
       "       -33.56726916,  34.05975968,  89.90091082,  29.61443663,\n",
       "        37.95277128,   5.04859495, -23.51901164,  -4.11565876,\n",
       "        -7.80691962, -16.65330434,   3.49171402,  21.67231896,\n",
       "       -12.90919449, -57.26160031,  40.66972968,  78.00157096,\n",
       "        61.11775102,   1.47567069,  63.89953105, -33.5922652 ,\n",
       "       -13.76035408, -39.44840122, -16.56328349, -48.92333782,\n",
       "       -15.61948484,  45.90272354,   8.40525078,  36.73752101,\n",
       "        41.40175657,   6.47332971,  13.07202496,   7.58314716,\n",
       "        35.44250449,  40.03343209, -41.40557396,  19.97214713,\n",
       "        14.89845096,  19.68972529,   8.94950866, -64.35781865,\n",
       "       -12.19908632,  16.00016068,  -2.47663538,   1.42206867,\n",
       "        57.88776215,  61.33943992,   6.50605749, -49.08062952,\n",
       "        -6.6080568 , -38.608091  , -19.45416387,   6.6450752 ,\n",
       "        21.93066881,   2.18181382,  27.85931962,  -1.85926256,\n",
       "       -43.92434524, -17.30127654,  17.13133785,  61.15460221,\n",
       "       -11.52400304,  -4.92050437,  24.43431304,   5.32818473,\n",
       "        33.80058915,  39.15275408,  13.03089338,  -4.02827475,\n",
       "       -55.32371465,  13.80896814,  37.25598446, -41.03200396,\n",
       "       -30.42100017,  29.61443663, -44.00108896,   6.82585827,\n",
       "        -3.17787417, -36.58968371,  -7.03440934,  16.20729958,\n",
       "        22.95114492,  12.15578949, -36.62503066, -15.24968274,\n",
       "        -6.49041581, -16.0242914 , -22.14999233, -18.22553452,\n",
       "         8.07032818,  41.16643614,  20.51852576, -22.95474019,\n",
       "       -40.49117341, -43.794263  ,  76.62059357,  30.05986267,\n",
       "       -51.44700654, -22.76858846, -12.83562601, -37.32703913,\n",
       "        11.77846459,  32.86381788,  16.20729958,  72.41127065,\n",
       "        -2.81278992,  87.77924768, -21.48631572,  -2.3868837 ,\n",
       "       -72.11199726, -43.04299014,  75.59563254, -26.27827351,\n",
       "        11.33531029,  71.72699605,  51.86425569, -71.65860129,\n",
       "        52.40693882,  66.62641657,  31.32616391, -31.31316097,\n",
       "       -35.73853545, -49.9394638 , -10.49813206,   4.17805419,\n",
       "        -7.56893351,  88.2403063 ,  21.1505767 , -36.58968371,\n",
       "        84.37511448,  25.4844424 ,   4.17805419, -30.37387835,\n",
       "        25.09839355, -20.57872769, -13.38346682,  -8.8591952 ,\n",
       "       -14.96227082,   0.60476164,  37.79294369, -64.76162549,\n",
       "         2.74285668, -72.35586733,  -5.76098143,   7.00237789,\n",
       "        -5.80739236,  36.76116956,  36.37517621, -53.39549678,\n",
       "        -7.10930777,   4.4011135 ,   8.57776364, -19.08924607,\n",
       "        27.85931962, -46.20644088,   2.83081414, -50.49343667,\n",
       "       -46.52513567,  24.19512292, -21.73497763,   8.8553438 ,\n",
       "        19.20731738,  14.58881778,  23.84077623, -17.08972948,\n",
       "        16.70099925,  39.52579144,   1.92764447,  16.72852634,\n",
       "       -58.85355681,  16.34663634, -18.99922516, -26.02740049,\n",
       "        14.09579828,  32.45182884, -43.37841152,  -3.60927612,\n",
       "        38.76952853,  -3.16569162,  29.8018037 ,  -8.48259428,\n",
       "        76.535979  , -35.14150416,  36.97176667, -36.58968371,\n",
       "        17.13133785, -38.79359743, -13.08594737, -58.85355681,\n",
       "         9.10387588,  41.16643614, -18.22553452,  35.25519986,\n",
       "        70.64004792,  23.45246046,  63.59781401,  75.59563254,\n",
       "        74.04400473,  58.14391677,   0.89893394, -77.73898476,\n",
       "        -2.47663538,  -3.05077276, -18.64020272, -42.21190296,\n",
       "       -26.40993884,  76.11660731,  58.42636408,  43.9489958 ,\n",
       "        -1.51587329,  23.03453608,  12.67728226,  73.69306157,\n",
       "        -1.63844744,  12.48644707,  -5.88597445, -56.52441877,\n",
       "       -11.05914609,   9.56619541, -31.45031773, -52.52998431,\n",
       "       -47.90930077, -49.37481635, -10.94637879,  19.17418885,\n",
       "        13.77910054,  -3.99946297,   4.46835086, -58.30010508,\n",
       "        11.74943839, -30.89301683,   7.09850839,  -3.9042723 ,\n",
       "        30.49030121, -32.5971955 , -57.73327337,  44.23294318,\n",
       "        -7.71825546, -49.37481635, -33.44890008,  -3.28613297,\n",
       "       -16.0242914 ,  85.42598965, -65.17976683,  59.09224762,\n",
       "       -26.65897685, -10.41949376,  45.18686348, -23.7609698 ,\n",
       "        69.17783828, -10.87847519,  46.772698  ,  24.00328486,\n",
       "        34.72090419,  13.50394296,  16.70099925,  14.67930846,\n",
       "        19.68972529,   1.21786175,   1.16934366,  10.59492105,\n",
       "        10.09219333,   8.44250419,  44.18087623, -20.36607934,\n",
       "        15.71045932,   8.2185716 , -26.43082201,  36.76116956,\n",
       "        44.94488021, -25.56456033,  -1.71871581, -45.84985281,\n",
       "         1.16934366, -66.13534614])"
      ]
     },
     "execution_count": 6,
     "metadata": {},
     "output_type": "execute_result"
    }
   ],
   "source": [
    "y_pred"
   ]
  },
  {
   "cell_type": "code",
   "execution_count": 7,
   "id": "90e9bdf9-f896-47d4-b6b1-08b38219d174",
   "metadata": {},
   "outputs": [],
   "source": [
    "from sklearn.metrics import r2_score,mean_absolute_error,mean_squared_error"
   ]
  },
  {
   "cell_type": "code",
   "execution_count": 8,
   "id": "f3f30643-d8e2-4439-8afe-395afa8be68f",
   "metadata": {},
   "outputs": [
    {
     "name": "stdout",
     "output_type": "stream",
     "text": [
      "0.906370894608509\n"
     ]
    }
   ],
   "source": [
    "print(r2_score(y_pred,y_test))"
   ]
  },
  {
   "cell_type": "code",
   "execution_count": null,
   "id": "bd73ed12-acf6-46ae-8157-deac64232b3a",
   "metadata": {},
   "outputs": [],
   "source": [
    "print(mean_absolute_error)"
   ]
  }
 ],
 "metadata": {
  "kernelspec": {
   "display_name": "Python 3 (ipykernel)",
   "language": "python",
   "name": "python3"
  },
  "language_info": {
   "codemirror_mode": {
    "name": "ipython",
    "version": 3
   },
   "file_extension": ".py",
   "mimetype": "text/x-python",
   "name": "python",
   "nbconvert_exporter": "python",
   "pygments_lexer": "ipython3",
   "version": "3.10.8"
  }
 },
 "nbformat": 4,
 "nbformat_minor": 5
}
