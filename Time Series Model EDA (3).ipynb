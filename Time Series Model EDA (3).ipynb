{
 "cells": [
  {
   "cell_type": "markdown",
   "id": "d1854ae3-6ab3-4bf3-91c7-02912683eee2",
   "metadata": {},
   "source": [
    "# Time Series Model Building"
   ]
  },
  {
   "cell_type": "raw",
   "id": "7d0f41f2-747e-4758-a7f2-1adb942d0980",
   "metadata": {},
   "source": [
    "# Steps to be followed\n",
    "1. Data Ingestion\n",
    "2. EDA of the data\n",
    "3. Processing of the data\n",
    "4. Model Building\n",
    "5. Model evaluation"
   ]
  },
  {
   "cell_type": "markdown",
   "id": "b04bc707-f119-44e4-b246-67ccc16b6b48",
   "metadata": {},
   "source": [
    "## Steps to be followed in Data Ingestion\n",
    "- Import the required Libraries: Import pandas,numpy,matplotlib,seaborn,etc\n",
    "- Load the data\n",
    "- Load the time series data into pandas dataframe\n",
    "- Set the datetime column as the index of the dataframe\n",
    "- Check the datatype of the index and convert it to datetime if necessary."
   ]
  },
  {
   "cell_type": "code",
   "execution_count": null,
   "id": "439b562d-b898-4e6e-8631-57e462b32149",
   "metadata": {},
   "outputs": [],
   "source": [
    "import pandas as pd\n",
    "import numpy as np\n",
    "import matplotlib.pyplot as plt\n",
    "import os\n",
    "import sys"
   ]
  },
  {
   "cell_type": "code",
   "execution_count": null,
   "id": "43ace9e0-510e-4acd-af6d-0e2b591c714a",
   "metadata": {},
   "outputs": [],
   "source": [
    "data=pd.read_csv('TSLA.CSV')"
   ]
  },
  {
   "cell_type": "code",
   "execution_count": null,
   "id": "833602c8-75d0-4e11-9cbf-12a65be7aa7c",
   "metadata": {},
   "outputs": [],
   "source": [
    "data.head()"
   ]
  },
  {
   "cell_type": "code",
   "execution_count": null,
   "id": "35f83485-f3c4-429c-ba4f-d15c9ec0ebab",
   "metadata": {},
   "outputs": [],
   "source": [
    "## Performing univariate analysis\n",
    "stock_data=data[[\"Date\",\"Close\"]]"
   ]
  },
  {
   "cell_type": "code",
   "execution_count": null,
   "id": "509bed0d-a204-4c7f-acf3-67ae6650889c",
   "metadata": {},
   "outputs": [],
   "source": [
    "stock_data.info()"
   ]
  },
  {
   "cell_type": "code",
   "execution_count": null,
   "id": "12fb4b9b-af1c-48ce-94aa-b6942ab71a49",
   "metadata": {},
   "outputs": [],
   "source": [
    "stock_data.iloc[:,0]=pd.to_datetime(stock_data.Date)"
   ]
  },
  {
   "cell_type": "code",
   "execution_count": null,
   "id": "48b6ee5a-a1ed-479a-a5fa-fed2130beb0e",
   "metadata": {},
   "outputs": [],
   "source": [
    "stock_data.info()"
   ]
  },
  {
   "cell_type": "raw",
   "id": "9a11520a-89a3-4da4-8217-bc67a0408878",
   "metadata": {},
   "source": [
    "Why to convert this column into index?\n",
    "1. Retriving of the data will be easy\n",
    "2. Visualization will be better\n",
    "3. Whatever library we are using for time series i.e scipy or stats model wants data which have column as date type."
   ]
  },
  {
   "cell_type": "code",
   "execution_count": null,
   "id": "9ff42112-e4f9-4d69-98a6-50f1ef07b424",
   "metadata": {},
   "outputs": [],
   "source": [
    "stock_data=stock_data.set_index(\"Date\")"
   ]
  },
  {
   "cell_type": "code",
   "execution_count": null,
   "id": "76df0555-4d99-428b-b435-133145926584",
   "metadata": {},
   "outputs": [],
   "source": [
    "stock_data"
   ]
  },
  {
   "cell_type": "markdown",
   "id": "8153a939-6849-42c1-afe6-7414b09925e5",
   "metadata": {},
   "source": [
    "## Performing EDA Of the Data"
   ]
  },
  {
   "cell_type": "raw",
   "id": "35446603-1428-4818-87f5-dcc0de53b91f",
   "metadata": {},
   "source": [
    "# Steps to perform EDA\n",
    "# Check summary statistics\n",
    "# Visualize the Time series Data\n",
    "# Plot the rolling mean and rolling standard deviation of the time series data\n",
    "# Stationary check\n",
    "# Check for Autocorrelation\n",
    "# Outlier Detection\n"
   ]
  },
  {
   "cell_type": "code",
   "execution_count": null,
   "id": "23cba507-b321-4ddd-a6c3-c3c074b90366",
   "metadata": {},
   "outputs": [],
   "source": [
    "stock_data.describe()"
   ]
  },
  {
   "cell_type": "code",
   "execution_count": null,
   "id": "71a7d886-46ce-4ce1-b0f9-f763b0b688c4",
   "metadata": {},
   "outputs": [],
   "source": [
    "plt.figure(figsize=(14,8))\n",
    "plt.plot(stock_data.Close)\n"
   ]
  },
  {
   "cell_type": "code",
   "execution_count": null,
   "id": "ca932583-6c1a-48d4-8b2a-3bff6cc6a057",
   "metadata": {},
   "outputs": [],
   "source": [
    "plt.hist(stock_data.Close)"
   ]
  },
  {
   "cell_type": "code",
   "execution_count": null,
   "id": "672789fd-bf9d-49cf-bae1-dff9c517acbc",
   "metadata": {},
   "outputs": [],
   "source": [
    "import seaborn as sns"
   ]
  },
  {
   "cell_type": "code",
   "execution_count": null,
   "id": "8d4c29bf-9a40-4c04-aefc-6eb178d27628",
   "metadata": {},
   "outputs": [],
   "source": [
    "sns.distplot(stock_data.Close)"
   ]
  },
  {
   "cell_type": "code",
   "execution_count": null,
   "id": "e4010204-3d6d-4acf-af03-0db590ea68e9",
   "metadata": {},
   "outputs": [],
   "source": [
    "## plotting close price\n",
    "plt.style.use('ggplot')\n",
    "plt.figure(figsize=(18,8))\n",
    "plt.grid(True)\n",
    "plt.xlabel('Dates',fontsize=20)\n",
    "plt.xticks(fontsize=12)\n",
    "plt.ylabel('Close Price', fontsize = 20)\n",
    "plt.yticks(fontsize=15)\n",
    "plt.plot(stock_data['Close'],linewidth=3,color='blue')\n",
    "plt.title('Tesla Stock Closing Price', fontsize=30)\n",
    "plt.show()"
   ]
  },
  {
   "cell_type": "code",
   "execution_count": null,
   "id": "bbd33e11-a896-49e8-9e77-2add29159b6c",
   "metadata": {},
   "outputs": [],
   "source": [
    "## plotting close price\n",
    "plt.style.use('ggplot')\n",
    "plt.figure(figsize=(18,8))\n",
    "plt.grid(True)\n",
    "plt.xlabel('Dates',fontsize=20)\n",
    "plt.xticks(fontsize=12)\n",
    "plt.ylabel('Close Price', fontsize = 20)\n",
    "plt.yticks(fontsize=15)\n",
    "plt.hist(stock_data['Close'],linewidth=3,color='blue')\n",
    "plt.title('Tesla Stock Closing Price', fontsize=30)\n",
    "plt.show()"
   ]
  },
  {
   "cell_type": "code",
   "execution_count": null,
   "id": "31eafb4c-a12a-40a8-89bc-a280e69be889",
   "metadata": {},
   "outputs": [],
   "source": [
    "## plotting close price\n",
    "df_close=stock_data['Close']\n",
    "df_close.plot(kind='kde',figsize=(18,8),linewidth=3)\n",
    "plt.grid(\"both\")\n",
    "plt.xticks(fontsize=12)\n",
    "plt.ylabel('Density', fontsize = 20)\n",
    "plt.yticks(fontsize=15)\n",
    "plt.show()"
   ]
  },
  {
   "cell_type": "code",
   "execution_count": null,
   "id": "2784ce24-5ed2-4ba1-990a-8e05457d14c3",
   "metadata": {},
   "outputs": [],
   "source": [
    "rolmean=stock_data['Close'].rolling(12).mean()"
   ]
  },
  {
   "cell_type": "code",
   "execution_count": null,
   "id": "866373d5-a85e-452b-9fe8-55f53b81f364",
   "metadata": {},
   "outputs": [],
   "source": [
    "rolmean"
   ]
  },
  {
   "cell_type": "code",
   "execution_count": null,
   "id": "80e46b71-eac7-4773-a3e5-fb5b02ff7483",
   "metadata": {},
   "outputs": [],
   "source": [
    "rolstd=stock_data['Close'].rolling(12).std()"
   ]
  },
  {
   "cell_type": "code",
   "execution_count": null,
   "id": "25cc69f0-8a35-4b68-b323-864495d0e537",
   "metadata": {},
   "outputs": [],
   "source": [
    "rolstd"
   ]
  },
  {
   "cell_type": "code",
   "execution_count": null,
   "id": "ccf02695-bcf7-4304-926a-7d90e2787bdd",
   "metadata": {},
   "outputs": [],
   "source": [
    "\n",
    "plt.plot(stock_data['Close'])\n",
    "\n",
    "plt.plot(rolmean)\n",
    "plt.plot(rolstd)"
   ]
  },
  {
   "cell_type": "code",
   "execution_count": null,
   "id": "8b2039c1-15b6-451d-9ff4-66726a764e2d",
   "metadata": {},
   "outputs": [],
   "source": [
    "from statsmodels.tsa.stattools import adfuller\n",
    "adft=adfuller(stock_data.Close)"
   ]
  },
  {
   "cell_type": "code",
   "execution_count": null,
   "id": "453e76ea-8bc4-4d26-b050-e3cff66b6dfc",
   "metadata": {},
   "outputs": [],
   "source": [
    "pd.Series(adft[0:4],index=['test stats','p value','lag','data points'])"
   ]
  },
  {
   "cell_type": "raw",
   "id": "26dacb0b-8f35-44e4-b0a9-717a99d2ff8f",
   "metadata": {},
   "source": [
    "Null_hypothesis = Data is not Stationary\n",
    "p_value=0.599876\n",
    "if p_value < 0.05\n",
    "reject null hypothesis\n",
    "if p_value >0.05\n",
    "Accept Null Hypothesis"
   ]
  },
  {
   "cell_type": "code",
   "execution_count": null,
   "id": "3c4ff090-dcac-478a-9a54-47ee9b485c78",
   "metadata": {},
   "outputs": [],
   "source": [
    "# test for stationary\n",
    "def test_stationarity(timeseries):\n",
    "    # Determining rolling statistics\n",
    "    rolmean=timeseries.rolling(48).mean() # rolling mean\n",
    "    rolstd = timeseries.rolling(48).std() # rolling standard deviation\n",
    "    # Plot rolling statistics:\n",
    "    plt.figure(figsize=(18,8))\n",
    "    plt.grid('both')\n",
    "    plt.plot(timeseries,color='blue',label='Original',linewidth=3)\n",
    "    plt.plot(rolmean,color='red',label='Rolling Mean',linewidth=3)\n",
    "    plt.plot(rolstd,color='black',label='Rolling Std',linewidth=4)\n",
    "    plt.legend(loc='best',fontsize=20,shadow=True,facecolor='lightpink',edgecolor='k')\n",
    "    plt.title('Rolling Mean and Standard Deviation',fontsize=25)\n",
    "    plt.xticks(fontsize=15)\n",
    "    plt.yticks(fontsize=15)\n",
    "    plt.show()\n",
    "    \n",
    "    print(\"Results of Dickey Fuller Test\")\n",
    "    adft =adfuller(timeseries,autolag='AIC')\n",
    "    #output for dft will give us without defining what the values are.\n",
    "    #hence we manually write what values does it explains using a for loop\n",
    "    output = pd.Series(adft[0:4],index=['Test Statistics','P_Value','No_Of_Lags','Number of Data Point'])\n",
    "    for key,values in adft[4].items():\n",
    "        output['critical value (%s)'%key] = values\n",
    "    print(output)\n",
    "    \n",
    "    "
   ]
  },
  {
   "cell_type": "code",
   "execution_count": null,
   "id": "0bce0f5c-9ec2-446a-92ea-1c3b2de1b478",
   "metadata": {},
   "outputs": [],
   "source": [
    "test_stationarity(stock_data.Close)"
   ]
  },
  {
   "cell_type": "code",
   "execution_count": null,
   "id": "5a216624-f1c2-40f0-b379-c55c5bd2a772",
   "metadata": {},
   "outputs": [],
   "source": [
    "## To check outliers"
   ]
  },
  {
   "cell_type": "code",
   "execution_count": null,
   "id": "2620a80a-1d46-4440-bc29-dbb34f5e1baf",
   "metadata": {},
   "outputs": [],
   "source": [
    "sns.boxplot(stock_data.Close)"
   ]
  },
  {
   "cell_type": "code",
   "execution_count": null,
   "id": "0eaf3c75-e2c3-46a4-9a8d-0c05ab184d09",
   "metadata": {},
   "outputs": [],
   "source": [
    "## Time series Decomposition"
   ]
  },
  {
   "cell_type": "code",
   "execution_count": null,
   "id": "8e85353d-39dd-411d-8f16-1255a7cb6213",
   "metadata": {},
   "outputs": [],
   "source": [
    "from statsmodels.tsa.seasonal import seasonal_decompose\n",
    "result=seasonal_decompose(stock_data[['Close']],period=12)"
   ]
  },
  {
   "cell_type": "code",
   "execution_count": null,
   "id": "e94f7870-c9e3-468c-a0eb-c0c55714b2c6",
   "metadata": {},
   "outputs": [],
   "source": [
    "result.plot()"
   ]
  },
  {
   "cell_type": "code",
   "execution_count": null,
   "id": "4aa6c074-f683-4e64-8cf7-e5b9b6b8ad31",
   "metadata": {},
   "outputs": [],
   "source": [
    "result.seasonal"
   ]
  },
  {
   "cell_type": "code",
   "execution_count": null,
   "id": "c2b56b83-ae73-44dd-8365-381b29df1e2b",
   "metadata": {},
   "outputs": [],
   "source": [
    "from statsmodels.graphics.tsaplots import plot_acf,plot_pacf"
   ]
  },
  {
   "cell_type": "code",
   "execution_count": null,
   "id": "5bfd3ef3-df3e-4370-b34a-a6ef9c6b6685",
   "metadata": {},
   "outputs": [],
   "source": [
    "plot_acf(stock_data.Close)"
   ]
  },
  {
   "cell_type": "code",
   "execution_count": null,
   "id": "0acb60e8-8be5-40a9-8f3c-8932d40d9542",
   "metadata": {},
   "outputs": [],
   "source": [
    "plot_pacf(stock_data.Close)"
   ]
  },
  {
   "cell_type": "raw",
   "id": "f8ef929f-ba90-414f-b256-d43c029188b0",
   "metadata": {},
   "source": [
    "## Preprocessing of Data\n",
    "1. Fill the missing(here not required)\n",
    "2. Convert data inti the stationary time series\n",
    "3. if necessary then normalize the data(not required here)\n",
    "4. split the data into train and test\n",
    "5. Clean the data by removing the outlier(not required here)"
   ]
  },
  {
   "cell_type": "code",
   "execution_count": null,
   "id": "d6d8164a-2ff4-4221-817e-584c0b8139f3",
   "metadata": {},
   "outputs": [],
   "source": [
    "stock_data.isnull().sum()"
   ]
  },
  {
   "cell_type": "code",
   "execution_count": null,
   "id": "e5197ca6-752d-4a78-bfc4-5df99d6fc488",
   "metadata": {},
   "outputs": [],
   "source": [
    "## convert the data into stationary time series"
   ]
  },
  {
   "cell_type": "code",
   "execution_count": null,
   "id": "4edf64d4-8a50-406e-ae89-e49c32176397",
   "metadata": {},
   "outputs": [],
   "source": [
    "df_close=stock_data['Close']"
   ]
  },
  {
   "cell_type": "code",
   "execution_count": null,
   "id": "41bcc452-9ea5-4d31-9913-c06bdd347743",
   "metadata": {},
   "outputs": [],
   "source": [
    "df_close"
   ]
  },
  {
   "cell_type": "code",
   "execution_count": null,
   "id": "bf37cafa-7a60-4b34-baef-e3e3696d8d52",
   "metadata": {},
   "outputs": [],
   "source": [
    "df_close=df_close.diff()\n",
    "df_close=df_close.dropna()"
   ]
  },
  {
   "cell_type": "code",
   "execution_count": null,
   "id": "4242e8dc-1a3c-4aa0-8542-1fcf47995620",
   "metadata": {},
   "outputs": [],
   "source": [
    "test_stationarity(df_close)"
   ]
  },
  {
   "cell_type": "markdown",
   "id": "4277a8ce-fa01-46f8-8132-25de9f625a13",
   "metadata": {},
   "source": [
    "Since the p value is less than 0.05 we reject the null hypothesis\n",
    "Hence we can say that our conversion from non stationary to stationary is successful "
   ]
  },
  {
   "cell_type": "code",
   "execution_count": null,
   "id": "efe6a137-97c8-4f50-bbd5-c383ab213825",
   "metadata": {},
   "outputs": [],
   "source": [
    "df_close[0:-60]"
   ]
  },
  {
   "cell_type": "code",
   "execution_count": null,
   "id": "d0c5fe5c-a99c-4cd7-94e9-8944f60fb8ec",
   "metadata": {},
   "outputs": [],
   "source": [
    "# split the data into train and test \n",
    "train_data=df_close[0:-60]\n",
    "test_data=df_close[-60:]\n",
    "plt.figure(figsize=(18,8))\n",
    "plt.grid(True)\n",
    "plt.xlabel('Dates',fontsize=20)\n",
    "plt.ylabel('Closing Prices',fontsize=20)\n",
    "plt.xticks(fontsize=15)\n",
    "plt.yticks(fontsize=15)\n",
    "plt.plot(train_data,'green',label='Train Data',linewidth=5)\n",
    "plt.plot(test_data,'blue',label=\"Test Data\",linewidth=5)\n",
    "plt.legend(fontsize=20,shadow=True,facecolor='lightpink',edgecolor='k')"
   ]
  },
  {
   "cell_type": "code",
   "execution_count": null,
   "id": "b293600a-e60c-4e94-be01-08a30e0d6652",
   "metadata": {},
   "outputs": [],
   "source": [
    "import statsmodels.api as sm\n",
    "from statsmodels.tsa.arima.model import ARIMA\n",
    "from sklearn.metrics import mean_squared_error"
   ]
  },
  {
   "cell_type": "code",
   "execution_count": null,
   "id": "ad8dd092-3d6a-40f9-a7f8-7b95847cd176",
   "metadata": {},
   "outputs": [],
   "source": [
    "history = [x for x in train_data]"
   ]
  },
  {
   "cell_type": "code",
   "execution_count": null,
   "id": "5446a4c1-757a-4140-897b-b7cb8da96a93",
   "metadata": {},
   "outputs": [],
   "source": [
    "history"
   ]
  },
  {
   "cell_type": "code",
   "execution_count": null,
   "id": "8ebe41a6-e77a-4f21-9a81-a3000ebb2dae",
   "metadata": {},
   "outputs": [],
   "source": [
    "model=ARIMA(history,order=(1,1,1))"
   ]
  },
  {
   "cell_type": "code",
   "execution_count": null,
   "id": "80a6d20f-af85-4d8e-be54-c0c3819ca2ab",
   "metadata": {},
   "outputs": [],
   "source": [
    "model=model.fit()"
   ]
  },
  {
   "cell_type": "code",
   "execution_count": null,
   "id": "007d6035-160b-4636-b68d-60c303024df0",
   "metadata": {},
   "outputs": [],
   "source": [
    "model.summary()"
   ]
  },
  {
   "cell_type": "code",
   "execution_count": null,
   "id": "818302af-6319-47ae-962e-ffff47d5d62c",
   "metadata": {},
   "outputs": [],
   "source": [
    "model.forecast()"
   ]
  },
  {
   "cell_type": "code",
   "execution_count": null,
   "id": "de64b912-a151-40f8-a2cf-8ae1dbade73c",
   "metadata": {},
   "outputs": [],
   "source": [
    "mse =mean_squared_error([test_data[0]],model.forecast())"
   ]
  },
  {
   "cell_type": "code",
   "execution_count": null,
   "id": "114b078f-ebad-4325-80d5-74199c929d2c",
   "metadata": {},
   "outputs": [],
   "source": [
    "mse"
   ]
  },
  {
   "cell_type": "code",
   "execution_count": null,
   "id": "6a2566cb-b0c0-4e8f-9eb4-6f9d5e1dcb59",
   "metadata": {},
   "outputs": [],
   "source": [
    "np.sqrt(mse)"
   ]
  },
  {
   "cell_type": "code",
   "execution_count": null,
   "id": "b38e4f66-986f-4b31-8b61-5e307dc3db41",
   "metadata": {},
   "outputs": [],
   "source": [
    "def train_arima_model(X,y,arima_order):\n",
    "    #prepare training dataset\n",
    "    # make prediction lists\n",
    "    history = [x for x in X]\n",
    "    predictions = list()\n",
    "    for t in range(len(y)):\n",
    "        model = ARIMA(history, order=arima_order)\n",
    "        model_fit=model.fit()\n",
    "        yhat=model_fit.forecast()[0]\n",
    "        predictions.append(yhat)\n",
    "        history.append(y[t])\n",
    "    # calculate out the sample error\n",
    "    rmse = np.sqrt(mean_squared_error(y,predictions))\n",
    "    return rmse"
   ]
  },
  {
   "cell_type": "code",
   "execution_count": null,
   "id": "ea5d19a2-a412-47d1-a86f-9c79b8882ca9",
   "metadata": {},
   "outputs": [],
   "source": [
    "#evaluate different combinations of p,d,q values for an ARIMA model to get the best order for ARIMA model\n",
    "def evaluate_models(dataset,test,p_values,d_values,q_values):\n",
    "    dataset=dataset.astype('float32')\n",
    "    best_score,best_cfg = float('inf'),None\n",
    "    for p in p_values:\n",
    "        for d in d_values:\n",
    "            for q in q_values:\n",
    "                order = (p,d,q)\n",
    "                try:\n",
    "                    rmse = train_arima_model(dataset,test,order)\n",
    "                    if rmse < best_score:\n",
    "                        best_score,best_cfg = rmse,order\n",
    "                    print('ARIMA%s RMSE=%.3f' %(order,rmse))\n",
    "                except:\n",
    "                    continue\n",
    "    print('Best ARIMA%s RMSE=%.3f' %(best_cfg,best_score))"
   ]
  },
  {
   "cell_type": "code",
   "execution_count": null,
   "id": "93a36d2c-e37b-4ea7-9f9a-c833fa3b7a91",
   "metadata": {},
   "outputs": [],
   "source": [
    "import warnings\n",
    "warnings.filterwarnings('ignore')\n",
    "p_values=range(0,3)\n",
    "d_values=range(0,3)\n",
    "q_values=range(0,3)\n",
    "evaluate_models(train_data,test_data,p_values,d_values,q_values)"
   ]
  },
  {
   "cell_type": "code",
   "execution_count": null,
   "id": "18804223-4f17-419b-9fdd-d0b99e26cd26",
   "metadata": {},
   "outputs": [],
   "source": [
    "history = [x for x in train_data]\n",
    "predictions = list()\n",
    "for i in range(len(test_data)):\n",
    "    model=ARIMA(history,order=(2,0,0))\n",
    "    model=model.fit()\n",
    "    fc=model.forecast()\n",
    "    predictions.append(fc)\n",
    "    history.append(test_data[i])\n",
    "print(f\"my RMSE {np.sqrt(mean_squared_error(test_data,predictions))}\")"
   ]
  },
  {
   "cell_type": "code",
   "execution_count": null,
   "id": "06498a78-9567-450d-9b46-533f76f26549",
   "metadata": {},
   "outputs": [],
   "source": [
    "plt.figure(figsize=(18,8))\n",
    "plt.grid(True)\n",
    "plt.plot(range(len(test_data)),test_data,label=\"True Test Close Value\",linewidth=5)\n",
    "plt.plot(range(len(predictions)),predictions,label=\"Predictions on Test Data\",linewidth=5)\n",
    "plt.xticks(fontsize=15)\n",
    "plt.yticks(fontsize=15)\n",
    "plt.legend(fontsize=20,shadow=True,facecolor='lightpink',edgecolor='k')\n",
    "plt.show()"
   ]
  },
  {
   "cell_type": "code",
   "execution_count": null,
   "id": "81f8bd2f-939c-4add-bfdb-5b4fcba24dd5",
   "metadata": {},
   "outputs": [],
   "source": [
    "fc_series=pd.Series(predictions,index=test_data.index)"
   ]
  },
  {
   "cell_type": "code",
   "execution_count": null,
   "id": "921e10a1-9763-4595-93d8-70f41e43c0e8",
   "metadata": {},
   "outputs": [],
   "source": [
    "#plot\n",
    "plt.figure(figsize=(18,8),dpi=200)\n",
    "plt.plot(train_data,label=\"Training\",color='blue')\n",
    "plt.plot(test_data,label=\"Test\",color='green',linewidth=3)\n",
    "plt.plot(fc_series,label=\"Forecast\",color='red')\n",
    "plt.title('Forecast vs Actuals on Test Data')\n",
    "plt.show()"
   ]
  },
  {
   "cell_type": "code",
   "execution_count": null,
   "id": "7dd5a1c1-fc18-4ce7-af76-5b499eeefda5",
   "metadata": {},
   "outputs": [],
   "source": [
    "from statsmodels.graphics.tsaplots import plot_predict\n",
    "fig=plt.figure(figsize=(18,8))\n",
    "ax1=fig.add_subplot(111)\n",
    "plot_predict(result=,start=1,end=len(df_close)+60,ax=ax1)\n",
    "plt.grid('both')\n",
    "plt.legend(['Forecast','Close','95% Confidence Interval'],fontsize=20, shadow=True, facecolor='lightblue',edgecolor='k')\n",
    "plt.show()"
   ]
  },
  {
   "cell_type": "code",
   "execution_count": null,
   "id": "5d932387-83df-4481-92da-5a1a8765c755",
   "metadata": {},
   "outputs": [],
   "source": []
  }
 ],
 "metadata": {
  "kernelspec": {
   "display_name": "Python 3 (ipykernel)",
   "language": "python",
   "name": "python3"
  },
  "language_info": {
   "codemirror_mode": {
    "name": "ipython",
    "version": 3
   },
   "file_extension": ".py",
   "mimetype": "text/x-python",
   "name": "python",
   "nbconvert_exporter": "python",
   "pygments_lexer": "ipython3",
   "version": "3.10.8"
  }
 },
 "nbformat": 4,
 "nbformat_minor": 5
}
